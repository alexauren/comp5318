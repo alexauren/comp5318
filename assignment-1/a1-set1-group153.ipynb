{
 "cells": [
  {
   "cell_type": "markdown",
   "metadata": {},
   "source": [
    "# COMP5318 Assignment 1: Rice Classification"
   ]
  },
  {
   "cell_type": "markdown",
   "metadata": {},
   "source": [
    "##### Group number: Set 1, Group 153\n",
    "##### Student 1 SID: 550403876\n",
    "##### Student 2 SID: 540453036"
   ]
  },
  {
   "cell_type": "markdown",
   "metadata": {},
   "source": [
    "#### Import Libraries"
   ]
  },
  {
   "cell_type": "code",
   "execution_count": 17,
   "metadata": {},
   "outputs": [],
   "source": [
    "# Import all libraries\n",
    "import pandas as pd\n",
    "import numpy as np\n",
    "from sklearn.impute import SimpleImputer\n",
    "from sklearn.preprocessing import MinMaxScaler\n",
    "from sklearn.linear_model import LogisticRegression\n",
    "from sklearn.model_selection import cross_val_score, StratifiedKFold, train_test_split, GridSearchCV\n",
    "from sklearn.naive_bayes import GaussianNB\n",
    "from sklearn.tree import DecisionTreeClassifier\n",
    "from sklearn.ensemble import BaggingClassifier, AdaBoostClassifier, GradientBoostingClassifier, RandomForestClassifier\n",
    "from sklearn.neighbors import KNeighborsClassifier\n",
    "from sklearn.metrics import accuracy_score, f1_score\n",
    "from sklearn.svm import SVC\n",
    "\n",
    "# Ignore future warnings\n",
    "from warnings import simplefilter\n",
    "simplefilter(action='ignore', category=FutureWarning)"
   ]
  },
  {
   "cell_type": "markdown",
   "metadata": {},
   "source": [
    "#### Load Dataset"
   ]
  },
  {
   "cell_type": "code",
   "execution_count": 18,
   "metadata": {},
   "outputs": [],
   "source": [
    "# Load the rice dataset: rice-final2.csv\n",
    "\n",
    "data = pd.read_csv('rice-final2.csv')\n",
    "# data = pd.read_csv('test/test-before.csv')"
   ]
  },
  {
   "cell_type": "markdown",
   "metadata": {},
   "source": [
    "#### Pre-Process Dataset"
   ]
  },
  {
   "cell_type": "markdown",
   "metadata": {},
   "source": [
    "#### Pre-Process Dataset"
   ]
  },
  {
   "cell_type": "code",
   "execution_count": 19,
   "metadata": {},
   "outputs": [],
   "source": [
    "# Pre-process dataset\n",
    "\n",
    "#Map to numeric values in target class\n",
    "y = data['class'].map({'class1': 0, 'class2': 1})  \n",
    "\n",
    "# Convert feature columns to numeric, swapping errors with NaN\n",
    "X = data.drop(columns='class')\n",
    "for col in X.columns:\n",
    "    X[col] = pd.to_numeric(data[col], errors='coerce')\n",
    "\n",
    "# Impute missing values with mean\n",
    "imp_mean = SimpleImputer(missing_values=np.nan, strategy='mean')\n",
    "imp_mean.fit(X)\n",
    "X = imp_mean.transform(X)\n",
    "\n",
    "# Normalize\n",
    "scaler = MinMaxScaler()\n",
    "scaler.fit(X)\n",
    "X = scaler.transform(X)\n"
   ]
  },
  {
   "cell_type": "markdown",
   "metadata": {},
   "source": [
    "##### Print first 10 rows"
   ]
  },
  {
   "cell_type": "code",
   "execution_count": 20,
   "metadata": {},
   "outputs": [
    {
     "name": "stdout",
     "output_type": "stream",
     "text": [
      "0.4628,0.5406,0.5113,0.4803,0.7380,0.4699,0.1196,1\n",
      "0.4900,0.5547,0.5266,0.5018,0.7319,0.4926,0.8030,1\n",
      "0.6109,0.6847,0.6707,0.5409,0.8032,0.6253,0.1185,0\n",
      "0.6466,0.6930,0.6677,0.5961,0.7601,0.6467,0.2669,0\n",
      "0.6712,0.6233,0.4755,0.8293,0.3721,0.6803,0.4211,1\n",
      "0.2634,0.2932,0.2414,0.4127,0.5521,0.2752,0.2825,1\n",
      "0.8175,0.9501,0.9515,0.5925,0.9245,0.8162,0.0000,0\n",
      "0.3174,0.3588,0.3601,0.3908,0.6921,0.3261,0.8510,1\n",
      "0.3130,0.3050,0.2150,0.5189,0.3974,0.3159,0.4570,1\n",
      "0.5120,0.5237,0.4409,0.6235,0.5460,0.5111,0.3155,1\n"
     ]
    }
   ],
   "source": [
    "# Print first ten rows of pre-processed dataset to 4 decimal places as per assignment spec\n",
    "# A function is provided to assist\n",
    "\n",
    "def print_data(X, y, n_rows=10):\n",
    "    \"\"\"Takes a numpy data array and target and prints the first ten rows.\n",
    "    \n",
    "    Arguments:\n",
    "        X: numpy array of shape (n_examples, n_features)\n",
    "        y: numpy array of shape (n_examples)\n",
    "        n_rows: numpy of rows to print\n",
    "    \"\"\"\n",
    "    for example_num in range(n_rows):\n",
    "        for feature in X[example_num]:\n",
    "            print(\"{:.4f}\".format(feature), end=\",\")\n",
    "\n",
    "        if example_num == len(X)-1:\n",
    "            print(y[example_num],end=\"\")\n",
    "        else:\n",
    "            print(y[example_num])\n",
    "\n",
    "print_data(X, y)"
   ]
  },
  {
   "cell_type": "markdown",
   "metadata": {},
   "source": [
    "### Part 1: Cross-validation without parameter tuning"
   ]
  },
  {
   "cell_type": "markdown",
   "metadata": {},
   "source": [
    "#### Stratified K-Fold"
   ]
  },
  {
   "cell_type": "code",
   "execution_count": 21,
   "metadata": {},
   "outputs": [],
   "source": [
    "## Setting the 10 fold stratified cross-validation\n",
    "cvKFold=StratifiedKFold(n_splits=10, shuffle=True, random_state=0)\n",
    "\n",
    "# The stratified folds from cvKFold should be provided to the classifiers"
   ]
  },
  {
   "cell_type": "markdown",
   "metadata": {},
   "source": [
    "#### Logistic Regression Classifier"
   ]
  },
  {
   "cell_type": "code",
   "execution_count": 22,
   "metadata": {},
   "outputs": [],
   "source": [
    "\n",
    "# Logistic Regression\n",
    "def logregClassifier(X, y):\n",
    "    model = LogisticRegression(random_state=0)\n",
    "    scores = cross_val_score(model, X, y, cv=cvKFold, scoring='accuracy')\n",
    "    return scores.mean()"
   ]
  },
  {
   "cell_type": "markdown",
   "metadata": {},
   "source": [
    "#### Naïve Bayes Classifier"
   ]
  },
  {
   "cell_type": "code",
   "execution_count": 23,
   "metadata": {},
   "outputs": [],
   "source": [
    "\n",
    "#Naïve Bayes\n",
    "def nbClassifier(X, y):\n",
    "    model = GaussianNB()\n",
    "    scores = cross_val_score(model, X, y, cv=cvKFold, scoring='accuracy')\n",
    "    return scores.mean()\n"
   ]
  },
  {
   "cell_type": "markdown",
   "metadata": {},
   "source": [
    "#### Decision Tree Classifier"
   ]
  },
  {
   "cell_type": "code",
   "execution_count": 24,
   "metadata": {},
   "outputs": [],
   "source": [
    "# Decision Tree\n",
    "def dtClassifier(X, y):\n",
    "    model = DecisionTreeClassifier(criterion='entropy',random_state=0)\n",
    "    scores = cross_val_score(model, X, y, cv=cvKFold, scoring='accuracy')\n",
    "    return scores.mean()"
   ]
  },
  {
   "cell_type": "markdown",
   "metadata": {},
   "source": [
    "#### Bagging, Ada Boost and Gradient Boosting Classifiers"
   ]
  },
  {
   "cell_type": "code",
   "execution_count": 25,
   "metadata": {},
   "outputs": [],
   "source": [
    "# Ensembles: Bagging, Ada Boost and Gradient Boosting\n",
    "def bagDTClassifier(X, y, n_estimators, max_samples, max_depth):\n",
    "    model = BaggingClassifier(DecisionTreeClassifier(max_depth=max_depth, criterion='entropy', random_state=0),\n",
    "                      n_estimators=n_estimators, max_samples=max_samples, random_state=0)\n",
    "    scores = cross_val_score(model, X, y, cv=cvKFold, scoring='accuracy')\n",
    "    return scores.mean()\n",
    "\n",
    "def adaDTClassifier(X, y, n_estimators, learning_rate, max_depth):\n",
    "    model = AdaBoostClassifier(DecisionTreeClassifier(max_depth=max_depth, criterion='entropy', random_state=0),\n",
    "                      n_estimators=n_estimators, learning_rate=learning_rate, random_state=0)\n",
    "    scores = cross_val_score(model, X, y, cv=cvKFold, scoring='accuracy')\n",
    "    return scores.mean()\n",
    "\n",
    "def gbClassifier(X, y, n_estimators, learning_rate):\n",
    "    model = GradientBoostingClassifier(n_estimators=n_estimators, learning_rate=learning_rate, random_state=0)\n",
    "    scores = cross_val_score(model, X, y, cv=cvKFold, scoring='accuracy')\n",
    "    return scores.mean()"
   ]
  },
  {
   "cell_type": "markdown",
   "metadata": {},
   "source": [
    "### Part 1 Results"
   ]
  },
  {
   "cell_type": "code",
   "execution_count": 26,
   "metadata": {},
   "outputs": [
    {
     "name": "stdout",
     "output_type": "stream",
     "text": [
      "LogR average cross-validation accuracy: 0.9386\n",
      "NB average cross-validation accuracy: 0.9264\n",
      "DT average cross-validation accuracy: 0.9179\n",
      "Bagging average cross-validation accuracy: 0.9414\n",
      "AdaBoost average cross-validation accuracy: 0.9407\n",
      "GB average cross-validation accuracy: 0.9321\n"
     ]
    }
   ],
   "source": [
    "# Parameters for Part 1:\n",
    "\n",
    "#Bagging\n",
    "bag_n_estimators = 50\n",
    "bag_max_samples = 100\n",
    "bag_max_depth = 5\n",
    "\n",
    "#AdaBoost\n",
    "ada_n_estimators = 50\n",
    "ada_learning_rate = 0.5\n",
    "ada_bag_max_depth = 5\n",
    "\n",
    "#GB\n",
    "gb_n_estimators = 50\n",
    "gb_learning_rate = 0.5\n",
    "\n",
    "# Print results for each classifier in part 1 to 4 decimal places here:\n",
    "print(\"LogR average cross-validation accuracy: {:.4f}\".format(logregClassifier(X,y)))\n",
    "print(\"NB average cross-validation accuracy: {:.4f}\".format(nbClassifier(X,y)))\n",
    "print(\"DT average cross-validation accuracy: {:.4f}\".format(dtClassifier(X,y)))\n",
    "print(\"Bagging average cross-validation accuracy: {:.4f}\".format(bagDTClassifier(X,y,bag_n_estimators,bag_max_samples,bag_max_depth)))\n",
    "print(\"AdaBoost average cross-validation accuracy: {:.4f}\".format(adaDTClassifier(X,y,ada_n_estimators,ada_learning_rate,ada_bag_max_depth)))\n",
    "print(\"GB average cross-validation accuracy: {:.4f}\".format(gbClassifier(X,y,gb_n_estimators,gb_learning_rate)))"
   ]
  },
  {
   "cell_type": "markdown",
   "metadata": {},
   "source": [
    "### Part 2: Cross-validation with parameter tuning"
   ]
  },
  {
   "cell_type": "code",
   "execution_count": 27,
   "metadata": {},
   "outputs": [],
   "source": [
    "# split dataset into training and testing dataset 75% training, 25% testing\n",
    "X_train, X_test, y_train, y_test = train_test_split(X, y, test_size=0.25, stratify=y, random_state=0)    "
   ]
  },
  {
   "cell_type": "markdown",
   "metadata": {},
   "source": [
    "#### KNN Classifier"
   ]
  },
  {
   "cell_type": "code",
   "execution_count": 28,
   "metadata": {},
   "outputs": [],
   "source": [
    "# KNN\n",
    "k = [1, 3, 5, 7]\n",
    "p = [1, 2]\n",
    "\n",
    "def bestKNNClassifier(X, y):\n",
    "    param_grid = {'n_neighbors': k, 'p': p}\n",
    "    knn = KNeighborsClassifier()\n",
    "    grid_search = GridSearchCV(knn, param_grid, cv=cvKFold, scoring='accuracy')\n",
    "    grid_search.fit(X_train, y_train)\n",
    "    best_knn = grid_search.best_estimator_\n",
    "    y_pred = best_knn.predict(X_test)\n",
    "    \n",
    "    return grid_search.best_params_['n_neighbors'], grid_search.best_params_['p'], grid_search.best_score_, accuracy_score(y_test, y_pred)"
   ]
  },
  {
   "cell_type": "markdown",
   "metadata": {},
   "source": [
    "#### SVM Classifier"
   ]
  },
  {
   "cell_type": "code",
   "execution_count": 29,
   "metadata": {},
   "outputs": [],
   "source": [
    "# SVM\n",
    "# You should use SVC from sklearn.svm with kernel set to 'rbf'\n",
    "C = [0.01, 0.1, 1, 5] \n",
    "gamma = [0.01, 0.1, 1, 10]\n",
    "\n",
    "def bestSVMClassifier(X, y):\n",
    "    param_grid = {'C': C, 'gamma': gamma}\n",
    "    svm = SVC(kernel='rbf', random_state=0)\n",
    "    grid_search = GridSearchCV(svm, param_grid, cv=cvKFold, scoring='accuracy')\n",
    "    grid_search.fit(X_train, y_train)    \n",
    "    best_svm = grid_search.best_estimator_\n",
    "    y_pred = best_svm.predict(X_test)\n",
    "    \n",
    "    return grid_search.best_params_['C'], grid_search.best_params_['gamma'], grid_search.best_score_, accuracy_score(y_test, y_pred)"
   ]
  },
  {
   "cell_type": "markdown",
   "metadata": {},
   "source": [
    "#### RandomForest Classifier"
   ]
  },
  {
   "cell_type": "code",
   "execution_count": 30,
   "metadata": {},
   "outputs": [],
   "source": [
    "# Random Forest\n",
    "# You should use RandomForestClassifier from sklearn.ensemble with information gain and max_features set to ‘sqrt’.\n",
    "n_estimators = [10, 30, 60, 100]\n",
    "max_leaf_nodes = [6, 12]\n",
    "\n",
    "def bestRFClassifier(X, y):\n",
    "    param_grid = {'n_estimators': n_estimators, 'max_leaf_nodes': max_leaf_nodes}    \n",
    "    rf = RandomForestClassifier(criterion='entropy', max_features='sqrt', random_state=0)        \n",
    "    grid_search = GridSearchCV(rf, param_grid, cv=cvKFold, scoring='accuracy')\n",
    "    grid_search.fit(X_train, y_train)\n",
    "    best_svm = grid_search.best_estimator_\n",
    "    y_pred = best_svm.predict(X_test)\n",
    "    \n",
    "    return grid_search.best_params_['n_estimators'], grid_search.best_params_['max_leaf_nodes'], \\\n",
    "        grid_search.best_score_, accuracy_score(y_test, y_pred), \\\n",
    "        f1_score(y_test, y_pred, average='macro'), \\\n",
    "        f1_score(y_test, y_pred, average='weighted')"
   ]
  },
  {
   "cell_type": "markdown",
   "metadata": {},
   "source": [
    "### Part 2: Results"
   ]
  },
  {
   "cell_type": "code",
   "execution_count": 31,
   "metadata": {},
   "outputs": [
    {
     "name": "stdout",
     "output_type": "stream",
     "text": [
      "KNN best k: 5.0000\n",
      "KNN best p: 1.0000\n",
      "KNN cross-validation accuracy: 0.9371\n",
      "KNN test set accuracy: 0.9257\n",
      "\n",
      "SVM best C: 5.0000\n",
      "SVM best gamma: 1.0000\n",
      "SVM cross-validation accuracy: 0.9457\n",
      "SVM test set accuracy: 0.9343\n",
      "\n",
      "RF best n_estimators: 30.0000\n",
      "RF best max_leaf_nodes: 12.0000\n",
      "RF cross-validation accuracy: 0.9390\n",
      "RF test set accuracy: 0.9371\n",
      "RF test set macro average F1: 0.9355\n",
      "RF test set weighted average F1: 0.9370\n"
     ]
    }
   ],
   "source": [
    "# Perform Grid Search with 10-fold stratified cross-validation (GridSearchCV in sklearn). \n",
    "# The stratified folds from cvKFold should be provided to GridSearchV\n",
    "\n",
    "# This should include using train_test_split from sklearn.model_selection with stratification and random_state=0\n",
    "# Print results for each classifier here. All results should be printed to 4 decimal places except for\n",
    "# \"k\", \"p\", n_estimators\" and \"max_leaf_nodes\" which should be printed as integers.\n",
    "knn = bestKNNClassifier(X,y)\n",
    "print(\"KNN best k: {:.4f}\".format(knn[0]))\n",
    "print(\"KNN best p: {:.4f}\".format(knn[1]))\n",
    "print(\"KNN cross-validation accuracy: {:.4f}\".format(knn[2]))\n",
    "print(\"KNN test set accuracy: {:.4f}\".format(knn[3]))\n",
    "\n",
    "print()\n",
    "svm = bestSVMClassifier(X,y)\n",
    "print(\"SVM best C: {:.4f}\".format(svm[0]))\n",
    "print(\"SVM best gamma: {:.4f}\".format(svm[1]))\n",
    "print(\"SVM cross-validation accuracy: {:.4f}\".format(svm[2]))\n",
    "print(\"SVM test set accuracy: {:.4f}\".format(svm[3]))\n",
    "\n",
    "print()\n",
    "rf = bestRFClassifier(X,y)\n",
    "print(\"RF best n_estimators: {:.4f}\".format(rf[0]))\n",
    "print(\"RF best max_leaf_nodes: {:.4f}\".format(rf[1]))\n",
    "print(\"RF cross-validation accuracy: {:.4f}\".format(rf[2]))\n",
    "print(\"RF test set accuracy: {:.4f}\".format(rf[3]))\n",
    "print(\"RF test set macro average F1: {:.4f}\".format(rf[4]))\n",
    "print(\"RF test set weighted average F1: {:.4f}\".format(rf[5]))"
   ]
  },
  {
   "cell_type": "markdown",
   "metadata": {},
   "source": [
    "### Part 3: Reflection"
   ]
  },
  {
   "cell_type": "markdown",
   "metadata": {},
   "source": [
    "##### Write one paragraph describing the most important thing that you have learned throughout this assignment.\n",
    "##### Student 1: \n",
    "I focused on data preprocessing and Part 1: \"Cross-validation without parameter tuning\" in this assignment. I expected the ensemble methods (Bagging, AdaBoost and Gradient boost) to perform sifnificantly better than the individual classifiers (logistic regression, naive bayes, and decision trees). While they did perform better than two of them, they were all beaten by decision trees in terms of accuracy. There can be several reasons for this: \n",
    "- The dataset is not complex and/or noisy enough for ensemble methods to shine.\n",
    "- The dataset has very clear boundaries between classes, making it a good fit for decision trees.\n",
    "- Lack of parameer tuning - the ensemble methods should have been tuned to perform better.\n",
    "\n",
    "Either way, the key takeaway for me was that there is no one-size-fits-all model. While one can make educated guesses about which models will perform better than others, you should always test them out before making a decision.\n",
    "##### Student 2: \n",
    "I focused on Part-2: \"Cross-validation with parameter tuning\" and overall review of the codes in this assignment. Throughout the experimentation I saw the trend that increase in cross validation (CV) scores improves testing accuracy which means that CV set is correlated with testing set, which means models which have the highest CV will perform the best on unseen data, so in my part RandomForest was the model with highest CV score of 0.7883 which perfectly makes sense as RandomForest is more robust to noise and overfitting because of it's tree base ensemble. Parameter Tuned RandomForest outperforms Bagging, AdaBoost and Gradient boost because hyper-parameter tuning provides a performance boost to the models thus random forest has optimal parameters compared to other models, had the been tuned their performance might have been better but would have required more time and complexity."
   ]
  },
  {
   "cell_type": "markdown",
   "metadata": {},
   "source": []
  }
 ],
 "metadata": {
  "kernelspec": {
   "display_name": "Python 3",
   "language": "python",
   "name": "python3"
  },
  "language_info": {
   "codemirror_mode": {
    "name": "ipython",
    "version": 3
   },
   "file_extension": ".py",
   "mimetype": "text/x-python",
   "name": "python",
   "nbconvert_exporter": "python",
   "pygments_lexer": "ipython3",
   "version": "3.11.11"
  }
 },
 "nbformat": 4,
 "nbformat_minor": 4
}
